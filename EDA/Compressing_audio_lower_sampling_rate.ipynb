{
 "cells": [
  {
   "cell_type": "code",
   "execution_count": 1,
   "metadata": {},
   "outputs": [],
   "source": [
    "from pydub.utils import mediainfo\n",
    "import os, glob"
   ]
  },
  {
   "cell_type": "markdown",
   "metadata": {},
   "source": [
    "### Importing data"
   ]
  },
  {
   "cell_type": "code",
   "execution_count": 2,
   "metadata": {},
   "outputs": [
    {
     "data": {
      "text/plain": [
       "['C:\\\\Users\\\\suydu\\\\Desktop\\\\Berkeley\\\\210_Capstone\\\\data\\\\bn_bd',\n",
       " 'C:\\\\Users\\\\suydu\\\\Desktop\\\\Berkeley\\\\210_Capstone\\\\data\\\\bn_in']"
      ]
     },
     "execution_count": 2,
     "metadata": {},
     "output_type": "execute_result"
    }
   ],
   "source": [
    "os.chdir(\"data\")\n",
    "DATA_DIR = os.getcwd()\n",
    "FOLDERNAMES = []\n",
    "\n",
    "for foldername in glob.glob(os.path.join(DATA_DIR, '*')):\n",
    "    FOLDERNAMES.append(foldername)\n",
    "    \n",
    "FOLDERNAMES\n",
    "# media = mediainfo(\"bn_bd/wavs/ban_00737_00006753614.wav\")"
   ]
  },
  {
   "cell_type": "code",
   "execution_count": 3,
   "metadata": {},
   "outputs": [],
   "source": [
    "import time\n",
    "t0 = time.time()\n",
    "import ntpath\n",
    "audio_info = []\n",
    "for folder in FOLDERNAMES:\n",
    "    for filename in glob.glob(os.path.join(folder, '*.wav')):\n",
    "        audio_info.append(mediainfo(filename))\n",
    "t1 = time.time()"
   ]
  },
  {
   "cell_type": "code",
   "execution_count": 4,
   "metadata": {},
   "outputs": [
    {
     "name": "stdout",
     "output_type": "stream",
     "text": [
      "It took 627.55 seconds to gather info for 3257 records.\n"
     ]
    },
    {
     "data": {
      "text/plain": [
       "{'index': '0',\n",
       " 'codec_name': 'pcm_s16le',\n",
       " 'codec_long_name': 'PCM signed 16-bit little-endian',\n",
       " 'profile': 'unknown',\n",
       " 'codec_type': 'audio',\n",
       " 'codec_time_base': '1/48000',\n",
       " 'codec_tag_string': '[1][0][0][0]',\n",
       " 'codec_tag': '0x0001',\n",
       " 'sample_fmt': 's16',\n",
       " 'sample_rate': '48000',\n",
       " 'channels': '1',\n",
       " 'channel_layout': 'unknown',\n",
       " 'bits_per_sample': '16',\n",
       " 'id': 'N/A',\n",
       " 'r_frame_rate': '0/0',\n",
       " 'avg_frame_rate': '0/0',\n",
       " 'time_base': '1/48000',\n",
       " 'start_pts': 'N/A',\n",
       " 'start_time': 'N/A',\n",
       " 'duration_ts': '196608',\n",
       " 'duration': '4.096000',\n",
       " 'bit_rate': '768085',\n",
       " 'max_bit_rate': 'N/A',\n",
       " 'bits_per_raw_sample': 'N/A',\n",
       " 'nb_frames': 'N/A',\n",
       " 'nb_read_frames': 'N/A',\n",
       " 'nb_read_packets': 'N/A',\n",
       " 'DISPOSITION': {'default': '0',\n",
       "  'dub': '0',\n",
       "  'original': '0',\n",
       "  'comment': '0',\n",
       "  'lyrics': '0',\n",
       "  'karaoke': '0',\n",
       "  'forced': '0',\n",
       "  'hearing_impaired': '0',\n",
       "  'visual_impaired': '0',\n",
       "  'clean_effects': '0',\n",
       "  'attached_pic': '0',\n",
       "  'timed_thumbnails': '0'},\n",
       " 'filename': 'C:\\\\Users\\\\suydu\\\\Desktop\\\\Berkeley\\\\210_Capstone\\\\data\\\\bn_bd\\\\ban_00737_00006753614.wav',\n",
       " 'nb_streams': '1',\n",
       " 'nb_programs': '0',\n",
       " 'format_name': 'wav',\n",
       " 'format_long_name': 'WAV / WAVE (Waveform Audio)',\n",
       " 'size': '393260',\n",
       " 'probe_score': '99'}"
      ]
     },
     "execution_count": 4,
     "metadata": {},
     "output_type": "execute_result"
    }
   ],
   "source": [
    "print(\"It took %.2f seconds to gather info for %s records.\" % (t1-t0, len(audio_info)))\n",
    "audio_info[0]"
   ]
  },
  {
   "cell_type": "markdown",
   "metadata": {},
   "source": [
    "### Compressing audio"
   ]
  },
  {
   "cell_type": "code",
   "execution_count": 5,
   "metadata": {},
   "outputs": [],
   "source": [
    "from ffmpy import FFmpeg\n",
    "#this should create compressed audio files at 10000 sampling rate in the data folder\n",
    "for folder in FOLDERNAMES:\n",
    "    for filename in glob.glob(os.path.join(folder, '*.wav')):\n",
    "        ff = FFmpeg(inputs={filename: None},outputs={'%s_compressed.wav'%(os.path.splitext(filename)[0]): '-acodec pcm_s16le -ar 10000 -ac 1'})\n",
    "        ff.run()\n",
    "# we can create iterate over different sampling rates"
   ]
  }
 ],
 "metadata": {
  "kernelspec": {
   "display_name": "Python 3",
   "language": "python",
   "name": "python3"
  },
  "language_info": {
   "codemirror_mode": {
    "name": "ipython",
    "version": 3
   },
   "file_extension": ".py",
   "mimetype": "text/x-python",
   "name": "python",
   "nbconvert_exporter": "python",
   "pygments_lexer": "ipython3",
   "version": "3.7.1"
  }
 },
 "nbformat": 4,
 "nbformat_minor": 2
}
