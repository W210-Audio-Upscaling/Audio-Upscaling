{
 "cells": [
  {
   "cell_type": "markdown",
   "metadata": {},
   "source": [
    "# This is a template\n",
    "\n",
    "Use this to test a large number of audio files"
   ]
  },
  {
   "cell_type": "code",
   "execution_count": 14,
   "metadata": {},
   "outputs": [
    {
     "data": {
      "text/plain": [
       "'/Users/patriciadegner/Documents/MIDS/Capstone/data'"
      ]
     },
     "execution_count": 14,
     "metadata": {},
     "output_type": "execute_result"
    }
   ],
   "source": [
    "os.getcwd()"
   ]
  },
  {
   "cell_type": "markdown",
   "metadata": {},
   "source": [
    "### Get names of all folders containing audio files"
   ]
  },
  {
   "cell_type": "code",
   "execution_count": 18,
   "metadata": {},
   "outputs": [
    {
     "data": {
      "text/plain": [
       "['/Users/patriciadegner/Documents/MIDS/Capstone/data/welsh_english_male',\n",
       " '/Users/patriciadegner/Documents/MIDS/Capstone/data/welsh_english_male 2']"
      ]
     },
     "execution_count": 18,
     "metadata": {},
     "output_type": "execute_result"
    }
   ],
   "source": [
    "import os, glob\n",
    "\n",
    "os.chdir(\"../../data\")\n",
    "DATA_DIR = os.getcwd()\n",
    "FOLDERNAMES = []\n",
    "\n",
    "for foldername in glob.glob(os.path.join(DATA_DIR, '*')):\n",
    "    FOLDERNAMES.append(foldername)\n",
    "    \n",
    "FOLDERNAMES"
   ]
  },
  {
   "cell_type": "markdown",
   "metadata": {},
   "source": [
    "### Gather media info for each audiofile"
   ]
  },
  {
   "cell_type": "code",
   "execution_count": 47,
   "metadata": {},
   "outputs": [],
   "source": [
    "from pydub.utils import mediainfo\n",
    "import time"
   ]
  },
  {
   "cell_type": "code",
   "execution_count": 48,
   "metadata": {},
   "outputs": [],
   "source": [
    "t0 = time.time()\n",
    "audio_info = []\n",
    "\n",
    "for folder in FOLDERNAMES:\n",
    "    for filename in glob.glob(os.path.join(folder, '*.wav')):\n",
    "        audio_info.append(mediainfo(filename))\n",
    "        \n",
    "t1 = time.time()"
   ]
  },
  {
   "cell_type": "code",
   "execution_count": 49,
   "metadata": {},
   "outputs": [
    {
     "name": "stdout",
     "output_type": "stream",
     "text": [
      "It took 198.07 seconds to gather info for 3300 records.\n"
     ]
    },
    {
     "data": {
      "text/plain": [
       "{'index': '0',\n",
       " 'codec_name': 'pcm_s16le',\n",
       " 'codec_long_name': 'PCM signed 16-bit little-endian',\n",
       " 'profile': 'unknown',\n",
       " 'codec_type': 'audio',\n",
       " 'codec_time_base': '1/48000',\n",
       " 'codec_tag_string': '[1][0][0][0]',\n",
       " 'codec_tag': '0x0001',\n",
       " 'sample_fmt': 's16',\n",
       " 'sample_rate': '48000',\n",
       " 'channels': '1',\n",
       " 'channel_layout': 'unknown',\n",
       " 'bits_per_sample': '16',\n",
       " 'id': 'N/A',\n",
       " 'r_frame_rate': '0/0',\n",
       " 'avg_frame_rate': '0/0',\n",
       " 'time_base': '1/48000',\n",
       " 'start_pts': 'N/A',\n",
       " 'start_time': 'N/A',\n",
       " 'duration_ts': '184320',\n",
       " 'duration': '3.840000',\n",
       " 'bit_rate': '768091',\n",
       " 'max_bit_rate': 'N/A',\n",
       " 'bits_per_raw_sample': 'N/A',\n",
       " 'nb_frames': 'N/A',\n",
       " 'nb_read_frames': 'N/A',\n",
       " 'nb_read_packets': 'N/A',\n",
       " 'DISPOSITION': {'default': '0',\n",
       "  'dub': '0',\n",
       "  'original': '0',\n",
       "  'comment': '0',\n",
       "  'lyrics': '0',\n",
       "  'karaoke': '0',\n",
       "  'forced': '0',\n",
       "  'hearing_impaired': '0',\n",
       "  'visual_impaired': '0',\n",
       "  'clean_effects': '0',\n",
       "  'attached_pic': '0',\n",
       "  'timed_thumbnails': '0'},\n",
       " 'filename': '/Users/patriciadegner/Documents/MIDS/Capstone/data/welsh_english_male/wem_02484_00200317852.wav',\n",
       " 'nb_streams': '1',\n",
       " 'nb_programs': '0',\n",
       " 'format_name': 'wav',\n",
       " 'format_long_name': 'WAV / WAVE (Waveform Audio)',\n",
       " 'size': '368684',\n",
       " 'probe_score': '99'}"
      ]
     },
     "execution_count": 49,
     "metadata": {},
     "output_type": "execute_result"
    }
   ],
   "source": [
    "print(\"It took %.2f seconds to gather info for %s records.\" % (t1-t0, len(audio_info)))\n",
    "audio_info[0]"
   ]
  },
  {
   "cell_type": "markdown",
   "metadata": {},
   "source": [
    "### Save this list into a dataframe"
   ]
  },
  {
   "cell_type": "code",
   "execution_count": 59,
   "metadata": {},
   "outputs": [
    {
     "data": {
      "text/html": [
       "<div>\n",
       "<style scoped>\n",
       "    .dataframe tbody tr th:only-of-type {\n",
       "        vertical-align: middle;\n",
       "    }\n",
       "\n",
       "    .dataframe tbody tr th {\n",
       "        vertical-align: top;\n",
       "    }\n",
       "\n",
       "    .dataframe thead th {\n",
       "        text-align: right;\n",
       "    }\n",
       "</style>\n",
       "<table border=\"1\" class=\"dataframe\">\n",
       "  <thead>\n",
       "    <tr style=\"text-align: right;\">\n",
       "      <th></th>\n",
       "      <th>index</th>\n",
       "      <th>codec_name</th>\n",
       "      <th>codec_long_name</th>\n",
       "      <th>profile</th>\n",
       "      <th>codec_type</th>\n",
       "      <th>codec_time_base</th>\n",
       "      <th>codec_tag_string</th>\n",
       "      <th>codec_tag</th>\n",
       "      <th>sample_fmt</th>\n",
       "      <th>sample_rate</th>\n",
       "      <th>...</th>\n",
       "      <th>nb_read_frames</th>\n",
       "      <th>nb_read_packets</th>\n",
       "      <th>DISPOSITION</th>\n",
       "      <th>filename</th>\n",
       "      <th>nb_streams</th>\n",
       "      <th>nb_programs</th>\n",
       "      <th>format_name</th>\n",
       "      <th>format_long_name</th>\n",
       "      <th>size</th>\n",
       "      <th>probe_score</th>\n",
       "    </tr>\n",
       "  </thead>\n",
       "  <tbody>\n",
       "    <tr>\n",
       "      <th>0</th>\n",
       "      <td>0</td>\n",
       "      <td>pcm_s16le</td>\n",
       "      <td>PCM signed 16-bit little-endian</td>\n",
       "      <td>unknown</td>\n",
       "      <td>audio</td>\n",
       "      <td>1/48000</td>\n",
       "      <td>[1][0][0][0]</td>\n",
       "      <td>0x0001</td>\n",
       "      <td>s16</td>\n",
       "      <td>48000</td>\n",
       "      <td>...</td>\n",
       "      <td>N/A</td>\n",
       "      <td>N/A</td>\n",
       "      <td>{'default': '0', 'dub': '0', 'original': '0', ...</td>\n",
       "      <td>/Users/patriciadegner/Documents/MIDS/Capstone/...</td>\n",
       "      <td>1</td>\n",
       "      <td>0</td>\n",
       "      <td>wav</td>\n",
       "      <td>WAV / WAVE (Waveform Audio)</td>\n",
       "      <td>368684</td>\n",
       "      <td>99</td>\n",
       "    </tr>\n",
       "    <tr>\n",
       "      <th>1</th>\n",
       "      <td>0</td>\n",
       "      <td>pcm_s16le</td>\n",
       "      <td>PCM signed 16-bit little-endian</td>\n",
       "      <td>unknown</td>\n",
       "      <td>audio</td>\n",
       "      <td>1/48000</td>\n",
       "      <td>[1][0][0][0]</td>\n",
       "      <td>0x0001</td>\n",
       "      <td>s16</td>\n",
       "      <td>48000</td>\n",
       "      <td>...</td>\n",
       "      <td>N/A</td>\n",
       "      <td>N/A</td>\n",
       "      <td>{'default': '0', 'dub': '0', 'original': '0', ...</td>\n",
       "      <td>/Users/patriciadegner/Documents/MIDS/Capstone/...</td>\n",
       "      <td>1</td>\n",
       "      <td>0</td>\n",
       "      <td>wav</td>\n",
       "      <td>WAV / WAVE (Waveform Audio)</td>\n",
       "      <td>229420</td>\n",
       "      <td>99</td>\n",
       "    </tr>\n",
       "    <tr>\n",
       "      <th>2</th>\n",
       "      <td>0</td>\n",
       "      <td>pcm_s16le</td>\n",
       "      <td>PCM signed 16-bit little-endian</td>\n",
       "      <td>unknown</td>\n",
       "      <td>audio</td>\n",
       "      <td>1/48000</td>\n",
       "      <td>[1][0][0][0]</td>\n",
       "      <td>0x0001</td>\n",
       "      <td>s16</td>\n",
       "      <td>48000</td>\n",
       "      <td>...</td>\n",
       "      <td>N/A</td>\n",
       "      <td>N/A</td>\n",
       "      <td>{'default': '0', 'dub': '0', 'original': '0', ...</td>\n",
       "      <td>/Users/patriciadegner/Documents/MIDS/Capstone/...</td>\n",
       "      <td>1</td>\n",
       "      <td>0</td>\n",
       "      <td>wav</td>\n",
       "      <td>WAV / WAVE (Waveform Audio)</td>\n",
       "      <td>671788</td>\n",
       "      <td>99</td>\n",
       "    </tr>\n",
       "    <tr>\n",
       "      <th>3</th>\n",
       "      <td>0</td>\n",
       "      <td>pcm_s16le</td>\n",
       "      <td>PCM signed 16-bit little-endian</td>\n",
       "      <td>unknown</td>\n",
       "      <td>audio</td>\n",
       "      <td>1/48000</td>\n",
       "      <td>[1][0][0][0]</td>\n",
       "      <td>0x0001</td>\n",
       "      <td>s16</td>\n",
       "      <td>48000</td>\n",
       "      <td>...</td>\n",
       "      <td>N/A</td>\n",
       "      <td>N/A</td>\n",
       "      <td>{'default': '0', 'dub': '0', 'original': '0', ...</td>\n",
       "      <td>/Users/patriciadegner/Documents/MIDS/Capstone/...</td>\n",
       "      <td>1</td>\n",
       "      <td>0</td>\n",
       "      <td>wav</td>\n",
       "      <td>WAV / WAVE (Waveform Audio)</td>\n",
       "      <td>663596</td>\n",
       "      <td>99</td>\n",
       "    </tr>\n",
       "    <tr>\n",
       "      <th>4</th>\n",
       "      <td>0</td>\n",
       "      <td>pcm_s16le</td>\n",
       "      <td>PCM signed 16-bit little-endian</td>\n",
       "      <td>unknown</td>\n",
       "      <td>audio</td>\n",
       "      <td>1/48000</td>\n",
       "      <td>[1][0][0][0]</td>\n",
       "      <td>0x0001</td>\n",
       "      <td>s16</td>\n",
       "      <td>48000</td>\n",
       "      <td>...</td>\n",
       "      <td>N/A</td>\n",
       "      <td>N/A</td>\n",
       "      <td>{'default': '0', 'dub': '0', 'original': '0', ...</td>\n",
       "      <td>/Users/patriciadegner/Documents/MIDS/Capstone/...</td>\n",
       "      <td>1</td>\n",
       "      <td>0</td>\n",
       "      <td>wav</td>\n",
       "      <td>WAV / WAVE (Waveform Audio)</td>\n",
       "      <td>466988</td>\n",
       "      <td>99</td>\n",
       "    </tr>\n",
       "  </tbody>\n",
       "</table>\n",
       "<p>5 rows × 35 columns</p>\n",
       "</div>"
      ],
      "text/plain": [
       "  index codec_name                  codec_long_name  profile codec_type  \\\n",
       "0     0  pcm_s16le  PCM signed 16-bit little-endian  unknown      audio   \n",
       "1     0  pcm_s16le  PCM signed 16-bit little-endian  unknown      audio   \n",
       "2     0  pcm_s16le  PCM signed 16-bit little-endian  unknown      audio   \n",
       "3     0  pcm_s16le  PCM signed 16-bit little-endian  unknown      audio   \n",
       "4     0  pcm_s16le  PCM signed 16-bit little-endian  unknown      audio   \n",
       "\n",
       "  codec_time_base codec_tag_string codec_tag sample_fmt sample_rate  ...  \\\n",
       "0         1/48000     [1][0][0][0]    0x0001        s16       48000  ...   \n",
       "1         1/48000     [1][0][0][0]    0x0001        s16       48000  ...   \n",
       "2         1/48000     [1][0][0][0]    0x0001        s16       48000  ...   \n",
       "3         1/48000     [1][0][0][0]    0x0001        s16       48000  ...   \n",
       "4         1/48000     [1][0][0][0]    0x0001        s16       48000  ...   \n",
       "\n",
       "  nb_read_frames nb_read_packets  \\\n",
       "0            N/A             N/A   \n",
       "1            N/A             N/A   \n",
       "2            N/A             N/A   \n",
       "3            N/A             N/A   \n",
       "4            N/A             N/A   \n",
       "\n",
       "                                         DISPOSITION  \\\n",
       "0  {'default': '0', 'dub': '0', 'original': '0', ...   \n",
       "1  {'default': '0', 'dub': '0', 'original': '0', ...   \n",
       "2  {'default': '0', 'dub': '0', 'original': '0', ...   \n",
       "3  {'default': '0', 'dub': '0', 'original': '0', ...   \n",
       "4  {'default': '0', 'dub': '0', 'original': '0', ...   \n",
       "\n",
       "                                            filename nb_streams nb_programs  \\\n",
       "0  /Users/patriciadegner/Documents/MIDS/Capstone/...          1           0   \n",
       "1  /Users/patriciadegner/Documents/MIDS/Capstone/...          1           0   \n",
       "2  /Users/patriciadegner/Documents/MIDS/Capstone/...          1           0   \n",
       "3  /Users/patriciadegner/Documents/MIDS/Capstone/...          1           0   \n",
       "4  /Users/patriciadegner/Documents/MIDS/Capstone/...          1           0   \n",
       "\n",
       "  format_name             format_long_name    size probe_score  \n",
       "0         wav  WAV / WAVE (Waveform Audio)  368684          99  \n",
       "1         wav  WAV / WAVE (Waveform Audio)  229420          99  \n",
       "2         wav  WAV / WAVE (Waveform Audio)  671788          99  \n",
       "3         wav  WAV / WAVE (Waveform Audio)  663596          99  \n",
       "4         wav  WAV / WAVE (Waveform Audio)  466988          99  \n",
       "\n",
       "[5 rows x 35 columns]"
      ]
     },
     "execution_count": 59,
     "metadata": {},
     "output_type": "execute_result"
    }
   ],
   "source": [
    "import pandas as pd\n",
    "\n",
    "df = pd.DataFrame(audio_info)\n",
    "df.head()"
   ]
  },
  {
   "cell_type": "code",
   "execution_count": 66,
   "metadata": {},
   "outputs": [
    {
     "data": {
      "text/plain": [
       "numpy.int64"
      ]
     },
     "execution_count": 66,
     "metadata": {},
     "output_type": "execute_result"
    }
   ],
   "source": [
    "type(df.sample_rate[0]) # string, convert it to int\n",
    "df.sample_rate = df.sample_rate.astype(int)\n",
    "type(df.sample_rate[0])"
   ]
  },
  {
   "cell_type": "markdown",
   "metadata": {},
   "source": [
    "### Get list of low quality files and remove them from the dataset"
   ]
  },
  {
   "cell_type": "code",
   "execution_count": 73,
   "metadata": {},
   "outputs": [],
   "source": [
    "# find values where sample rate indicates low quality\n",
    "# There are none in this dataset\n",
    "remove_list = df.loc[df['sample_rate'] <= 44001, 'filename'] \n",
    "\n",
    "# Can be filtered on any column"
   ]
  },
  {
   "cell_type": "code",
   "execution_count": 74,
   "metadata": {},
   "outputs": [],
   "source": [
    "for file in remove_list:\n",
    "    try:\n",
    "        os.remove(file)\n",
    "    except:\n",
    "        pass "
   ]
  },
  {
   "cell_type": "code",
   "execution_count": null,
   "metadata": {},
   "outputs": [],
   "source": []
  }
 ],
 "metadata": {
  "kernelspec": {
   "display_name": "Python 3",
   "language": "python",
   "name": "python3"
  },
  "language_info": {
   "codemirror_mode": {
    "name": "ipython",
    "version": 3
   },
   "file_extension": ".py",
   "mimetype": "text/x-python",
   "name": "python",
   "nbconvert_exporter": "python",
   "pygments_lexer": "ipython3",
   "version": "3.7.6"
  }
 },
 "nbformat": 4,
 "nbformat_minor": 4
}
