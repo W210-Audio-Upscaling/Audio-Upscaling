{
 "cells": [
  {
   "cell_type": "markdown",
   "metadata": {},
   "source": [
    "# This is a template\n",
    "\n",
    "Use this to test a large number of audio files"
   ]
  },
  {
   "cell_type": "code",
   "execution_count": 1,
   "metadata": {},
   "outputs": [],
   "source": [
    "import os\n",
    "import matplotlib.pyplot as plt"
   ]
  },
  {
   "cell_type": "code",
   "execution_count": 2,
   "metadata": {},
   "outputs": [
    {
     "data": {
      "text/plain": [
       "'/Volumes/TBT3_SSD/DeciBull/Audio-Upscaling/EDA'"
      ]
     },
     "execution_count": 2,
     "metadata": {},
     "output_type": "execute_result"
    }
   ],
   "source": [
    "os.getcwd()"
   ]
  },
  {
   "cell_type": "markdown",
   "metadata": {},
   "source": [
    "### Get names of all folders containing audio files"
   ]
  },
  {
   "cell_type": "code",
   "execution_count": 5,
   "metadata": {},
   "outputs": [
    {
     "data": {
      "text/plain": [
       "['/Volumes/TBT3_SSD/DeciBull/data/Afrikaans',\n",
       " '/Volumes/TBT3_SSD/DeciBull/data/Bangladesh_Bengali',\n",
       " '/Volumes/TBT3_SSD/DeciBull/data/Indian_Bengali',\n",
       " '/Volumes/TBT3_SSD/DeciBull/data/Sesotho',\n",
       " '/Volumes/TBT3_SSD/DeciBull/data/Setswana',\n",
       " '/Volumes/TBT3_SSD/DeciBull/data/Sudanese_female',\n",
       " '/Volumes/TBT3_SSD/DeciBull/data/arabic-speech-corpus',\n",
       " '/Volumes/TBT3_SSD/DeciBull/data/arg_spanish_female',\n",
       " '/Volumes/TBT3_SSD/DeciBull/data/arg_spanish_male',\n",
       " '/Volumes/TBT3_SSD/DeciBull/data/basque_female',\n",
       " '/Volumes/TBT3_SSD/DeciBull/data/basque_male',\n",
       " '/Volumes/TBT3_SSD/DeciBull/data/burmese_female',\n",
       " '/Volumes/TBT3_SSD/DeciBull/data/catalan_spanish_female',\n",
       " '/Volumes/TBT3_SSD/DeciBull/data/catalan_spanish_male',\n",
       " '/Volumes/TBT3_SSD/DeciBull/data/chile_sp_female',\n",
       " '/Volumes/TBT3_SSD/DeciBull/data/chile_sp_male',\n",
       " '/Volumes/TBT3_SSD/DeciBull/data/columbia_sp_female',\n",
       " '/Volumes/TBT3_SSD/DeciBull/data/columbia_sp_male',\n",
       " '/Volumes/TBT3_SSD/DeciBull/data/galician_female',\n",
       " '/Volumes/TBT3_SSD/DeciBull/data/galician_male',\n",
       " '/Volumes/TBT3_SSD/DeciBull/data/gujarti_female',\n",
       " '/Volumes/TBT3_SSD/DeciBull/data/gujarti_male',\n",
       " '/Volumes/TBT3_SSD/DeciBull/data/irish_english_male',\n",
       " '/Volumes/TBT3_SSD/DeciBull/data/isiXhosa',\n",
       " '/Volumes/TBT3_SSD/DeciBull/data/javanese_female',\n",
       " '/Volumes/TBT3_SSD/DeciBull/data/javanese_male',\n",
       " '/Volumes/TBT3_SSD/DeciBull/data/kannada_female',\n",
       " '/Volumes/TBT3_SSD/DeciBull/data/kannada_male',\n",
       " '/Volumes/TBT3_SSD/DeciBull/data/khmer_male',\n",
       " '/Volumes/TBT3_SSD/DeciBull/data/malayalam_female',\n",
       " '/Volumes/TBT3_SSD/DeciBull/data/malayalam_male',\n",
       " '/Volumes/TBT3_SSD/DeciBull/data/marathi_female',\n",
       " '/Volumes/TBT3_SSD/DeciBull/data/midlands_english_female',\n",
       " '/Volumes/TBT3_SSD/DeciBull/data/midlands_english_male',\n",
       " '/Volumes/TBT3_SSD/DeciBull/data/nepalese_female',\n",
       " '/Volumes/TBT3_SSD/DeciBull/data/nigerian_en_female',\n",
       " '/Volumes/TBT3_SSD/DeciBull/data/nigerian_en_male',\n",
       " '/Volumes/TBT3_SSD/DeciBull/data/northern_english_female',\n",
       " '/Volumes/TBT3_SSD/DeciBull/data/northern_english_male',\n",
       " '/Volumes/TBT3_SSD/DeciBull/data/peru_sp_female',\n",
       " '/Volumes/TBT3_SSD/DeciBull/data/peru_sp_male',\n",
       " '/Volumes/TBT3_SSD/DeciBull/data/pr_spanish_female',\n",
       " '/Volumes/TBT3_SSD/DeciBull/data/scottish_english_female',\n",
       " '/Volumes/TBT3_SSD/DeciBull/data/scottish_english_male',\n",
       " '/Volumes/TBT3_SSD/DeciBull/data/southern_english_female',\n",
       " '/Volumes/TBT3_SSD/DeciBull/data/southern_english_male',\n",
       " '/Volumes/TBT3_SSD/DeciBull/data/sudanese_male',\n",
       " '/Volumes/TBT3_SSD/DeciBull/data/ta_in_female',\n",
       " '/Volumes/TBT3_SSD/DeciBull/data/tamil_male',\n",
       " '/Volumes/TBT3_SSD/DeciBull/data/telugu_female',\n",
       " '/Volumes/TBT3_SSD/DeciBull/data/telugu_male',\n",
       " '/Volumes/TBT3_SSD/DeciBull/data/venezuala_sp_female',\n",
       " '/Volumes/TBT3_SSD/DeciBull/data/venezuala_sp_male',\n",
       " '/Volumes/TBT3_SSD/DeciBull/data/welsh_english_female',\n",
       " '/Volumes/TBT3_SSD/DeciBull/data/welsh_english_male',\n",
       " '/Volumes/TBT3_SSD/DeciBull/data/yoruba_female',\n",
       " '/Volumes/TBT3_SSD/DeciBull/data/yoruba_male']"
      ]
     },
     "execution_count": 5,
     "metadata": {},
     "output_type": "execute_result"
    }
   ],
   "source": [
    "import os, glob\n",
    "\n",
    "#os.chdir(\"../../data\")\n",
    "DATA_DIR = os.getcwd()\n",
    "FOLDERNAMES = []\n",
    "\n",
    "for foldername in glob.glob(os.path.join(DATA_DIR, '*')):\n",
    "    FOLDERNAMES.append(foldername)\n",
    "    \n",
    "FOLDERNAMES.sort()\n",
    "FOLDERNAMES"
   ]
  },
  {
   "cell_type": "markdown",
   "metadata": {},
   "source": [
    "### Gather media info for each audiofile"
   ]
  },
  {
   "cell_type": "code",
   "execution_count": 7,
   "metadata": {},
   "outputs": [],
   "source": [
    "from pydub.utils import mediainfo\n",
    "import time\n",
    "import tqdm"
   ]
  },
  {
   "cell_type": "code",
   "execution_count": 9,
   "metadata": {},
   "outputs": [
    {
     "name": "stderr",
     "output_type": "stream",
     "text": [
      "100%|██████████| 57/57 [2:17:18<00:00, 144.53s/it]  \n"
     ]
    }
   ],
   "source": [
    "t0 = time.time()\n",
    "audio_info = []\n",
    "\n",
    "for folder in tqdm.tqdm(FOLDERNAMES):\n",
    "    for filename in glob.glob(os.path.join(folder, '*.wav')):\n",
    "        audio_info.append(mediainfo(filename))\n",
    "        \n",
    "t1 = time.time()"
   ]
  },
  {
   "cell_type": "code",
   "execution_count": 11,
   "metadata": {},
   "outputs": [
    {
     "name": "stdout",
     "output_type": "stream",
     "text": [
      "It took 8238.50 seconds or 137.31 minutes or 2.29 hours to gather info for 99392 records.\n"
     ]
    }
   ],
   "source": [
    "print(\"It took %.2f seconds or %.2f minutes or %.2f hours to gather info for %s records.\" % (t1-t0, (t1-t0)/60, ((t1-t0)/60)/60, len(audio_info)))"
   ]
  },
  {
   "cell_type": "markdown",
   "metadata": {},
   "source": [
    "### Save this list into a dataframe"
   ]
  },
  {
   "cell_type": "code",
   "execution_count": 12,
   "metadata": {},
   "outputs": [
    {
     "data": {
      "text/html": [
       "<div>\n",
       "<style scoped>\n",
       "    .dataframe tbody tr th:only-of-type {\n",
       "        vertical-align: middle;\n",
       "    }\n",
       "\n",
       "    .dataframe tbody tr th {\n",
       "        vertical-align: top;\n",
       "    }\n",
       "\n",
       "    .dataframe thead th {\n",
       "        text-align: right;\n",
       "    }\n",
       "</style>\n",
       "<table border=\"1\" class=\"dataframe\">\n",
       "  <thead>\n",
       "    <tr style=\"text-align: right;\">\n",
       "      <th></th>\n",
       "      <th>index</th>\n",
       "      <th>codec_name</th>\n",
       "      <th>codec_long_name</th>\n",
       "      <th>profile</th>\n",
       "      <th>codec_type</th>\n",
       "      <th>codec_time_base</th>\n",
       "      <th>codec_tag_string</th>\n",
       "      <th>codec_tag</th>\n",
       "      <th>sample_fmt</th>\n",
       "      <th>sample_rate</th>\n",
       "      <th>...</th>\n",
       "      <th>nb_read_packets</th>\n",
       "      <th>DISPOSITION</th>\n",
       "      <th>filename</th>\n",
       "      <th>nb_streams</th>\n",
       "      <th>nb_programs</th>\n",
       "      <th>format_name</th>\n",
       "      <th>format_long_name</th>\n",
       "      <th>size</th>\n",
       "      <th>probe_score</th>\n",
       "      <th>TAG</th>\n",
       "    </tr>\n",
       "  </thead>\n",
       "  <tbody>\n",
       "    <tr>\n",
       "      <th>0</th>\n",
       "      <td>0</td>\n",
       "      <td>pcm_s16le</td>\n",
       "      <td>PCM signed 16-bit little-endian</td>\n",
       "      <td>unknown</td>\n",
       "      <td>audio</td>\n",
       "      <td>1/48000</td>\n",
       "      <td>[1][0][0][0]</td>\n",
       "      <td>0x0001</td>\n",
       "      <td>s16</td>\n",
       "      <td>48000</td>\n",
       "      <td>...</td>\n",
       "      <td>N/A</td>\n",
       "      <td>{'default': '0', 'dub': '0', 'original': '0', ...</td>\n",
       "      <td>/Volumes/TBT3_SSD/DeciBull/data/Afrikaans/afr_...</td>\n",
       "      <td>1</td>\n",
       "      <td>0</td>\n",
       "      <td>wav</td>\n",
       "      <td>WAV / WAVE (Waveform Audio)</td>\n",
       "      <td>382444</td>\n",
       "      <td>99</td>\n",
       "      <td>NaN</td>\n",
       "    </tr>\n",
       "    <tr>\n",
       "      <th>1</th>\n",
       "      <td>0</td>\n",
       "      <td>pcm_s16le</td>\n",
       "      <td>PCM signed 16-bit little-endian</td>\n",
       "      <td>unknown</td>\n",
       "      <td>audio</td>\n",
       "      <td>1/48000</td>\n",
       "      <td>[1][0][0][0]</td>\n",
       "      <td>0x0001</td>\n",
       "      <td>s16</td>\n",
       "      <td>48000</td>\n",
       "      <td>...</td>\n",
       "      <td>N/A</td>\n",
       "      <td>{'default': '0', 'dub': '0', 'original': '0', ...</td>\n",
       "      <td>/Volumes/TBT3_SSD/DeciBull/data/Afrikaans/afr_...</td>\n",
       "      <td>1</td>\n",
       "      <td>0</td>\n",
       "      <td>wav</td>\n",
       "      <td>WAV / WAVE (Waveform Audio)</td>\n",
       "      <td>330028</td>\n",
       "      <td>99</td>\n",
       "      <td>NaN</td>\n",
       "    </tr>\n",
       "    <tr>\n",
       "      <th>2</th>\n",
       "      <td>0</td>\n",
       "      <td>pcm_s16le</td>\n",
       "      <td>PCM signed 16-bit little-endian</td>\n",
       "      <td>unknown</td>\n",
       "      <td>audio</td>\n",
       "      <td>1/48000</td>\n",
       "      <td>[1][0][0][0]</td>\n",
       "      <td>0x0001</td>\n",
       "      <td>s16</td>\n",
       "      <td>48000</td>\n",
       "      <td>...</td>\n",
       "      <td>N/A</td>\n",
       "      <td>{'default': '0', 'dub': '0', 'original': '0', ...</td>\n",
       "      <td>/Volumes/TBT3_SSD/DeciBull/data/Afrikaans/afr_...</td>\n",
       "      <td>1</td>\n",
       "      <td>0</td>\n",
       "      <td>wav</td>\n",
       "      <td>WAV / WAVE (Waveform Audio)</td>\n",
       "      <td>409324</td>\n",
       "      <td>99</td>\n",
       "      <td>NaN</td>\n",
       "    </tr>\n",
       "    <tr>\n",
       "      <th>3</th>\n",
       "      <td>0</td>\n",
       "      <td>pcm_s16le</td>\n",
       "      <td>PCM signed 16-bit little-endian</td>\n",
       "      <td>unknown</td>\n",
       "      <td>audio</td>\n",
       "      <td>1/48000</td>\n",
       "      <td>[1][0][0][0]</td>\n",
       "      <td>0x0001</td>\n",
       "      <td>s16</td>\n",
       "      <td>48000</td>\n",
       "      <td>...</td>\n",
       "      <td>N/A</td>\n",
       "      <td>{'default': '0', 'dub': '0', 'original': '0', ...</td>\n",
       "      <td>/Volumes/TBT3_SSD/DeciBull/data/Afrikaans/afr_...</td>\n",
       "      <td>1</td>\n",
       "      <td>0</td>\n",
       "      <td>wav</td>\n",
       "      <td>WAV / WAVE (Waveform Audio)</td>\n",
       "      <td>493356</td>\n",
       "      <td>99</td>\n",
       "      <td>NaN</td>\n",
       "    </tr>\n",
       "    <tr>\n",
       "      <th>4</th>\n",
       "      <td>0</td>\n",
       "      <td>pcm_s16le</td>\n",
       "      <td>PCM signed 16-bit little-endian</td>\n",
       "      <td>unknown</td>\n",
       "      <td>audio</td>\n",
       "      <td>1/48000</td>\n",
       "      <td>[1][0][0][0]</td>\n",
       "      <td>0x0001</td>\n",
       "      <td>s16</td>\n",
       "      <td>48000</td>\n",
       "      <td>...</td>\n",
       "      <td>N/A</td>\n",
       "      <td>{'default': '0', 'dub': '0', 'original': '0', ...</td>\n",
       "      <td>/Volumes/TBT3_SSD/DeciBull/data/Afrikaans/afr_...</td>\n",
       "      <td>1</td>\n",
       "      <td>0</td>\n",
       "      <td>wav</td>\n",
       "      <td>WAV / WAVE (Waveform Audio)</td>\n",
       "      <td>599084</td>\n",
       "      <td>99</td>\n",
       "      <td>NaN</td>\n",
       "    </tr>\n",
       "  </tbody>\n",
       "</table>\n",
       "<p>5 rows × 36 columns</p>\n",
       "</div>"
      ],
      "text/plain": [
       "  index codec_name                  codec_long_name  profile codec_type  \\\n",
       "0     0  pcm_s16le  PCM signed 16-bit little-endian  unknown      audio   \n",
       "1     0  pcm_s16le  PCM signed 16-bit little-endian  unknown      audio   \n",
       "2     0  pcm_s16le  PCM signed 16-bit little-endian  unknown      audio   \n",
       "3     0  pcm_s16le  PCM signed 16-bit little-endian  unknown      audio   \n",
       "4     0  pcm_s16le  PCM signed 16-bit little-endian  unknown      audio   \n",
       "\n",
       "  codec_time_base codec_tag_string codec_tag sample_fmt sample_rate  ...  \\\n",
       "0         1/48000     [1][0][0][0]    0x0001        s16       48000  ...   \n",
       "1         1/48000     [1][0][0][0]    0x0001        s16       48000  ...   \n",
       "2         1/48000     [1][0][0][0]    0x0001        s16       48000  ...   \n",
       "3         1/48000     [1][0][0][0]    0x0001        s16       48000  ...   \n",
       "4         1/48000     [1][0][0][0]    0x0001        s16       48000  ...   \n",
       "\n",
       "  nb_read_packets                                        DISPOSITION  \\\n",
       "0             N/A  {'default': '0', 'dub': '0', 'original': '0', ...   \n",
       "1             N/A  {'default': '0', 'dub': '0', 'original': '0', ...   \n",
       "2             N/A  {'default': '0', 'dub': '0', 'original': '0', ...   \n",
       "3             N/A  {'default': '0', 'dub': '0', 'original': '0', ...   \n",
       "4             N/A  {'default': '0', 'dub': '0', 'original': '0', ...   \n",
       "\n",
       "                                            filename nb_streams nb_programs  \\\n",
       "0  /Volumes/TBT3_SSD/DeciBull/data/Afrikaans/afr_...          1           0   \n",
       "1  /Volumes/TBT3_SSD/DeciBull/data/Afrikaans/afr_...          1           0   \n",
       "2  /Volumes/TBT3_SSD/DeciBull/data/Afrikaans/afr_...          1           0   \n",
       "3  /Volumes/TBT3_SSD/DeciBull/data/Afrikaans/afr_...          1           0   \n",
       "4  /Volumes/TBT3_SSD/DeciBull/data/Afrikaans/afr_...          1           0   \n",
       "\n",
       "  format_name             format_long_name    size probe_score  TAG  \n",
       "0         wav  WAV / WAVE (Waveform Audio)  382444          99  NaN  \n",
       "1         wav  WAV / WAVE (Waveform Audio)  330028          99  NaN  \n",
       "2         wav  WAV / WAVE (Waveform Audio)  409324          99  NaN  \n",
       "3         wav  WAV / WAVE (Waveform Audio)  493356          99  NaN  \n",
       "4         wav  WAV / WAVE (Waveform Audio)  599084          99  NaN  \n",
       "\n",
       "[5 rows x 36 columns]"
      ]
     },
     "execution_count": 12,
     "metadata": {},
     "output_type": "execute_result"
    }
   ],
   "source": [
    "import pandas as pd\n",
    "\n",
    "df = pd.DataFrame(audio_info)\n",
    "df.head()"
   ]
  },
  {
   "cell_type": "code",
   "execution_count": 14,
   "metadata": {},
   "outputs": [
    {
     "data": {
      "text/plain": [
       "'/Volumes/TBT3_SSD/DeciBull'"
      ]
     },
     "execution_count": 14,
     "metadata": {},
     "output_type": "execute_result"
    }
   ],
   "source": [
    "os.chdir(\"..\")\n",
    "os.getcwd()"
   ]
  },
  {
   "cell_type": "code",
   "execution_count": 17,
   "metadata": {},
   "outputs": [
    {
     "data": {
      "text/plain": [
       "99392"
      ]
     },
     "execution_count": 17,
     "metadata": {},
     "output_type": "execute_result"
    }
   ],
   "source": [
    "len(df)"
   ]
  },
  {
   "cell_type": "code",
   "execution_count": 29,
   "metadata": {},
   "outputs": [],
   "source": [
    "type(df.sample_rate[0]) # string, convert it to int\n",
    "df.sample_rate = df.sample_rate.astype(int)\n",
    "type(df.sample_rate[0])\n",
    "\n",
    "# Remove entries with bad sample rate\n",
    "df = df[df.sample_rate >= 47999]\n",
    "\n",
    "df.to_csv(\"audio_df.csv\")"
   ]
  },
  {
   "cell_type": "code",
   "execution_count": 32,
   "metadata": {},
   "outputs": [],
   "source": [
    "df = pd.DataFrame(audio_info)\n",
    "df.sample_rate = df.sample_rate.astype(int)"
   ]
  },
  {
   "cell_type": "code",
   "execution_count": 33,
   "metadata": {},
   "outputs": [
    {
     "data": {
      "text/plain": [
       "6190     /Volumes/TBT3_SSD/DeciBull/data/Sesotho/sso_01...\n",
       "6212     /Volumes/TBT3_SSD/DeciBull/data/Sesotho/sso_01...\n",
       "6216     /Volumes/TBT3_SSD/DeciBull/data/Sesotho/sso_01...\n",
       "6218     /Volumes/TBT3_SSD/DeciBull/data/Sesotho/sso_29...\n",
       "6231     /Volumes/TBT3_SSD/DeciBull/data/Sesotho/sso_29...\n",
       "                               ...                        \n",
       "10539    /Volumes/TBT3_SSD/DeciBull/data/Setswana/tsn_0...\n",
       "10559    /Volumes/TBT3_SSD/DeciBull/data/Setswana/tsn_7...\n",
       "10595    /Volumes/TBT3_SSD/DeciBull/data/Setswana/tsn_0...\n",
       "10625    /Volumes/TBT3_SSD/DeciBull/data/Setswana/tsn_0...\n",
       "10627    /Volumes/TBT3_SSD/DeciBull/data/Setswana/tsn_0...\n",
       "Name: filename, Length: 135, dtype: object"
      ]
     },
     "execution_count": 33,
     "metadata": {},
     "output_type": "execute_result"
    }
   ],
   "source": [
    "bad_files = df.filename[df.sample_rate <= 47000]\n",
    "len(bad_files)\n",
    "bad_files"
   ]
  },
  {
   "cell_type": "code",
   "execution_count": 22,
   "metadata": {},
   "outputs": [
    {
     "data": {
      "text/plain": [
       "True"
      ]
     },
     "execution_count": 22,
     "metadata": {},
     "output_type": "execute_result"
    }
   ],
   "source": [
    "# # Are all the bad files from the TED talks? \n",
    "# ted_bad_files = [filename for filename in bad_files if \"tedx\" in filename]\n",
    "# total_ted_files = [file for file in df.filename if \"tedx\" in file]\n",
    "# len(bad_files) == len(ted_bad_files) == len(total_ted_files)"
   ]
  },
  {
   "cell_type": "markdown",
   "metadata": {},
   "source": [
    "### Get list of low quality files and remove them from the dataset"
   ]
  },
  {
   "cell_type": "code",
   "execution_count": 18,
   "metadata": {},
   "outputs": [
    {
     "data": {
      "text/plain": [
       "Series([], Name: filename, dtype: object)"
      ]
     },
     "execution_count": 18,
     "metadata": {},
     "output_type": "execute_result"
    }
   ],
   "source": [
    "# # find values where sample rate indicates low quality\n",
    "# # There are none in this dataset\n",
    "# remove_list = df.loc[df['sample_rate'] <= 44001, 'filename'] \n",
    "# remove_list\n",
    "# # Can be filtered on any column"
   ]
  },
  {
   "cell_type": "code",
   "execution_count": 36,
   "metadata": {},
   "outputs": [
    {
     "name": "stdout",
     "output_type": "stream",
     "text": [
      "already done\n",
      "already done\n",
      "already done\n",
      "already done\n",
      "already done\n",
      "already done\n",
      "already done\n",
      "already done\n",
      "already done\n",
      "already done\n",
      "already done\n",
      "already done\n",
      "already done\n",
      "already done\n",
      "already done\n",
      "already done\n",
      "already done\n",
      "already done\n",
      "already done\n",
      "already done\n",
      "already done\n",
      "already done\n",
      "already done\n",
      "already done\n",
      "already done\n",
      "already done\n",
      "already done\n",
      "already done\n",
      "already done\n",
      "already done\n",
      "already done\n",
      "already done\n",
      "already done\n",
      "already done\n",
      "already done\n",
      "already done\n",
      "already done\n",
      "already done\n",
      "already done\n",
      "already done\n",
      "already done\n",
      "already done\n",
      "already done\n",
      "already done\n",
      "already done\n",
      "already done\n",
      "already done\n",
      "already done\n",
      "already done\n",
      "already done\n",
      "already done\n",
      "already done\n",
      "already done\n",
      "already done\n",
      "already done\n",
      "already done\n",
      "already done\n",
      "already done\n",
      "already done\n",
      "already done\n",
      "already done\n",
      "already done\n",
      "already done\n",
      "already done\n",
      "already done\n",
      "already done\n",
      "already done\n",
      "already done\n",
      "already done\n",
      "already done\n",
      "already done\n",
      "already done\n",
      "already done\n",
      "already done\n",
      "already done\n",
      "already done\n",
      "already done\n",
      "already done\n",
      "already done\n",
      "already done\n",
      "already done\n",
      "already done\n",
      "already done\n",
      "already done\n",
      "already done\n",
      "already done\n",
      "already done\n",
      "already done\n",
      "already done\n",
      "already done\n",
      "already done\n",
      "already done\n",
      "already done\n",
      "already done\n",
      "already done\n",
      "already done\n",
      "already done\n",
      "already done\n",
      "already done\n",
      "already done\n",
      "already done\n",
      "already done\n",
      "already done\n",
      "already done\n",
      "already done\n",
      "already done\n",
      "already done\n",
      "already done\n",
      "already done\n",
      "already done\n",
      "already done\n",
      "already done\n",
      "already done\n",
      "already done\n",
      "already done\n",
      "already done\n",
      "already done\n",
      "already done\n",
      "already done\n",
      "already done\n",
      "already done\n",
      "already done\n",
      "already done\n",
      "already done\n",
      "already done\n",
      "already done\n",
      "already done\n",
      "already done\n",
      "already done\n",
      "already done\n",
      "already done\n",
      "already done\n",
      "already done\n",
      "already done\n",
      "already done\n"
     ]
    }
   ],
   "source": [
    "for file in bad_files:\n",
    "    try:\n",
    "        os.remove(file)\n",
    "    except:\n",
    "        print(\"already done\") "
   ]
  },
  {
   "cell_type": "code",
   "execution_count": 35,
   "metadata": {},
   "outputs": [
    {
     "data": {
      "text/plain": [
       "6190     /Volumes/TBT3_SSD/DeciBull/data/Sesotho/sso_01...\n",
       "6212     /Volumes/TBT3_SSD/DeciBull/data/Sesotho/sso_01...\n",
       "6216     /Volumes/TBT3_SSD/DeciBull/data/Sesotho/sso_01...\n",
       "6218     /Volumes/TBT3_SSD/DeciBull/data/Sesotho/sso_29...\n",
       "6231     /Volumes/TBT3_SSD/DeciBull/data/Sesotho/sso_29...\n",
       "                               ...                        \n",
       "10539    /Volumes/TBT3_SSD/DeciBull/data/Setswana/tsn_0...\n",
       "10559    /Volumes/TBT3_SSD/DeciBull/data/Setswana/tsn_7...\n",
       "10595    /Volumes/TBT3_SSD/DeciBull/data/Setswana/tsn_0...\n",
       "10625    /Volumes/TBT3_SSD/DeciBull/data/Setswana/tsn_0...\n",
       "10627    /Volumes/TBT3_SSD/DeciBull/data/Setswana/tsn_0...\n",
       "Name: filename, Length: 135, dtype: object"
      ]
     },
     "execution_count": 35,
     "metadata": {},
     "output_type": "execute_result"
    }
   ],
   "source": [
    "bad_files = df.filename[df.sample_rate <= 47000]\n",
    "len(bad_files)\n",
    "bad_files"
   ]
  },
  {
   "cell_type": "code",
   "execution_count": null,
   "metadata": {},
   "outputs": [],
   "source": []
  }
 ],
 "metadata": {
  "kernelspec": {
   "display_name": "Python 3",
   "language": "python",
   "name": "python3"
  },
  "language_info": {
   "codemirror_mode": {
    "name": "ipython",
    "version": 3
   },
   "file_extension": ".py",
   "mimetype": "text/x-python",
   "name": "python",
   "nbconvert_exporter": "python",
   "pygments_lexer": "ipython3",
   "version": "3.7.6"
  }
 },
 "nbformat": 4,
 "nbformat_minor": 4
}
