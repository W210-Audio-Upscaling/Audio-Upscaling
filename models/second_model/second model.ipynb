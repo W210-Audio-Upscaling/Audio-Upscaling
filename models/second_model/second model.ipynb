{
 "cells": [
  {
   "cell_type": "code",
   "execution_count": 136,
   "metadata": {},
   "outputs": [],
   "source": [
    "from tqdm import tqdm\n",
    "import numpy as np\n",
    "import librosa\n",
    "import torch.nn as nn\n",
    "import torch.nn.functional as F\n",
    "import torch\n",
    "from torch.autograd import Variable"
   ]
  },
  {
   "cell_type": "code",
   "execution_count": 6,
   "metadata": {},
   "outputs": [
    {
     "name": "stderr",
     "output_type": "stream",
     "text": [
      "/Users/tryu/Programs/dcgan/venv/lib/python3.7/site-packages/librosa/core/audio.py:162: UserWarning: PySoundFile failed. Trying audioread instead.\n",
      "  warnings.warn(\"PySoundFile failed. Trying audioread instead.\")\n",
      "/Users/tryu/Programs/dcgan/venv/lib/python3.7/site-packages/librosa/core/audio.py:162: UserWarning: PySoundFile failed. Trying audioread instead.\n",
      "  warnings.warn(\"PySoundFile failed. Trying audioread instead.\")\n"
     ]
    }
   ],
   "source": [
    "x_raw = \"MiniMega_low.mp3\"\n",
    "y_raw = \"MiniMega_norm.mp3\"\n",
    "x, sr_x = librosa.load(x_raw)\n",
    "y, sr_y = librosa.load(y_raw)\n",
    "x_D = np.abs(librosa.stft(x))\n",
    "y_D = np.abs(librosa.stft(y))"
   ]
  },
  {
   "cell_type": "code",
   "execution_count": 7,
   "metadata": {},
   "outputs": [],
   "source": [
    "X = torch.from_numpy(x_D)\n",
    "Y = torch.from_numpy(y_D)"
   ]
  },
  {
   "cell_type": "code",
   "execution_count": 14,
   "metadata": {},
   "outputs": [],
   "source": [
    "width = X.shape[1]"
   ]
  },
  {
   "cell_type": "code",
   "execution_count": 8,
   "metadata": {},
   "outputs": [
    {
     "data": {
      "text/plain": [
       "torch.Size([1025, 25747])"
      ]
     },
     "execution_count": 8,
     "metadata": {},
     "output_type": "execute_result"
    }
   ],
   "source": [
    "X.shape"
   ]
  },
  {
   "cell_type": "code",
   "execution_count": 41,
   "metadata": {},
   "outputs": [],
   "source": [
    "batch_norm = nn.BatchNorm1d(width)\n",
    "demo_x = batch_norm(X)\n",
    "test_slice = demo_x[0].unsqueeze(0)"
   ]
  },
  {
   "cell_type": "code",
   "execution_count": 105,
   "metadata": {},
   "outputs": [],
   "source": [
    "class Generator(nn.Module):\n",
    "    def __init__(self, X):\n",
    "        super(Generator, self).__init__()\n",
    "\n",
    "        self.init_size = X.shape[1]\n",
    "        self.conv1 = nn.Conv1d(self.init_size, 15000, 1, stride=3)\n",
    "        self.relu1 = nn.LeakyReLU(0.2, inplace=True)\n",
    "        self.conv2 = nn.Conv1d(15000, 7500, 1, stride=3)\n",
    "        self.relu2 = nn.LeakyReLU(0.2, inplace=True)\n",
    "        self.fc1 = nn.Linear(7500, 15000)\n",
    "        self.relu3 = nn.LeakyReLU(0.2, inplace=True)\n",
    "        self.fc2 = nn.Linear(15000, self.init_size)\n",
    "        self.relu4 = nn.LeakyReLU(0.2, inplace=True)\n",
    "        self.tanh = nn.Tanh()\n",
    "\n",
    "    def forward(self, x):\n",
    "        x = self.conv1(x.unsqueeze(2)).squeeze(2)\n",
    "        x = self.relu1(x)\n",
    "        x = self.conv2(x.unsqueeze(2)).squeeze(2)\n",
    "        x = self.relu2(x)\n",
    "        x = self.fc1(x)\n",
    "        x = self.relu3(x)\n",
    "        x = self.fc2(x)\n",
    "        x = self.relu4(x)\n",
    "        x = self.tanh(x)\n",
    "        return x"
   ]
  },
  {
   "cell_type": "code",
   "execution_count": 106,
   "metadata": {},
   "outputs": [],
   "source": [
    "gen = Generator(X)"
   ]
  },
  {
   "cell_type": "code",
   "execution_count": 107,
   "metadata": {},
   "outputs": [],
   "source": [
    "x_ = gen(X[0].unsqueeze(0))"
   ]
  },
  {
   "cell_type": "code",
   "execution_count": 108,
   "metadata": {},
   "outputs": [
    {
     "data": {
      "text/plain": [
       "torch.Size([1, 25747])"
      ]
     },
     "execution_count": 108,
     "metadata": {},
     "output_type": "execute_result"
    }
   ],
   "source": [
    "x_.shape"
   ]
  },
  {
   "cell_type": "code",
   "execution_count": 115,
   "metadata": {},
   "outputs": [],
   "source": [
    "class Discriminator(nn.Module):\n",
    "    def __init__(self, X):\n",
    "        super(Discriminator, self).__init__()\n",
    "        \n",
    "        self.init_size = X.shape[1]\n",
    "        self.fc1 = nn.Linear(self.init_size, 10000)\n",
    "        self.fc2 = nn.Linear(10000, 2)\n",
    "        self.sigmoid = nn.Sigmoid()\n",
    "    \n",
    "    def forward(self, x):\n",
    "        x = self.fc1(x)\n",
    "        x = self.fc2(x)\n",
    "        x = self.sigmoid(x)\n",
    "        return x"
   ]
  },
  {
   "cell_type": "code",
   "execution_count": 116,
   "metadata": {},
   "outputs": [],
   "source": [
    "dis = Discriminator(X)"
   ]
  },
  {
   "cell_type": "code",
   "execution_count": 117,
   "metadata": {},
   "outputs": [],
   "source": [
    "out = dis(x_)"
   ]
  },
  {
   "cell_type": "code",
   "execution_count": 121,
   "metadata": {},
   "outputs": [],
   "source": [
    "adversarial_loss = torch.nn.BCELoss()\n",
    "generator = Generator(X)\n",
    "discriminator = Discriminator(X)\n",
    "learning_rate = 1e-6\n",
    "optimizer_G = torch.optim.Adam(generator.parameters(), lr=learning_rate, betas=(0.5, 0.999))\n",
    "optimizer_D = torch.optim.Adam(discriminator.parameters(), lr=learning_rate, betas=(0.5, 0.999))"
   ]
  },
  {
   "cell_type": "code",
   "execution_count": 149,
   "metadata": {},
   "outputs": [
    {
     "name": "stderr",
     "output_type": "stream",
     "text": [
      "100%|██████████| 1025/1025 [4:26:43<00:00, 15.61s/it] \n"
     ]
    }
   ],
   "source": [
    "cuda = True if torch.cuda.is_available() else False\n",
    "Tensor = torch.cuda.FloatTensor if cuda else torch.FloatTensor\n",
    "for i in tqdm(range(X.shape[0])):\n",
    "    # Generator Training\n",
    "    ground_truth = Y[i]\n",
    "    fake = torch.tensor([0.0, 1.0])\n",
    "    valid = torch.tensor([1.0, 0.0])\n",
    "    input_slice = X[i]\n",
    "    optimizer_G.zero_grad()\n",
    "    gen_slice = generator(X[i].unsqueeze(0))\n",
    "    g_loss = adversarial_loss(discriminator(gen_slice), fake)\n",
    "    g_loss.backward()\n",
    "    optimizer_G.step()\n",
    "    \n",
    "    # Discriminator Training\n",
    "    optimizer_D.zero_grad()\n",
    "    real_loss = adversarial_loss(discriminator(ground_truth), valid)\n",
    "    fake_loss = adversarial_loss(discriminator(gen_slice.detach()), fake)\n",
    "    d_loss = (real_loss + fake_loss)/2\n",
    "    d_loss.backward()\n",
    "    optimizer_D.step()"
   ]
  },
  {
   "cell_type": "code",
   "execution_count": 151,
   "metadata": {},
   "outputs": [
    {
     "name": "stderr",
     "output_type": "stream",
     "text": [
      "100%|██████████| 1025/1025 [32:22<00:00,  1.90s/it]\n"
     ]
    }
   ],
   "source": [
    "gen_data = []\n",
    "for i in tqdm(range(X.shape[0])):\n",
    "    # Generator Training\n",
    "    input_slice = X[i]\n",
    "    gen_slice = generator(input_slice.unsqueeze(0))\n",
    "    gen_data.append(gen_slice.detach().numpy()[0])\n",
    "\n",
    "\n",
    "D = np.array(gen_data)\n",
    "reconstructed_audio = librosa.griffinlim(D)\n",
    "import soundfile\n",
    "soundfile.write('test.wav', reconstructed_audio, 22050)"
   ]
  },
  {
   "cell_type": "code",
   "execution_count": null,
   "metadata": {},
   "outputs": [],
   "source": []
  }
 ],
 "metadata": {
  "kernelspec": {
   "display_name": "Python 3",
   "language": "python",
   "name": "python3"
  },
  "language_info": {
   "codemirror_mode": {
    "name": "ipython",
    "version": 3
   },
   "file_extension": ".py",
   "mimetype": "text/x-python",
   "name": "python",
   "nbconvert_exporter": "python",
   "pygments_lexer": "ipython3",
   "version": "3.7.0"
  }
 },
 "nbformat": 4,
 "nbformat_minor": 4
}
